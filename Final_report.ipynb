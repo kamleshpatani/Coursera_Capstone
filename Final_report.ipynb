{
 "cells": [
  {
   "cell_type": "markdown",
   "metadata": {},
   "source": [
    "# <center>The Battle of Neighborhood </center>\n",
    "# <center>Most common places of Mumbai and Delhi area </center> \n",
    "## Final Report \n",
    "##### by Kamlesh Patani"
   ]
  },
  {
   "cell_type": "markdown",
   "metadata": {},
   "source": [
    "## Introduction\n",
    "Mumbai and Delhi are two major cities in India. Both cities become a center of attention for residential, job employment, tourism, education, shopping and sports activity. Both cities are well known in India, and become the top choice for local and foreign communities.\n",
    "\n",
    "\n",
    "Brief information about both cities:  \n",
    "** Mumbai**: is the capital city of the Indian state of Maharashtra. According to United Nations, Mumbai is the second most populous city in India after Delhi and fourth most populous city in the world after Tokyo, Delhi and Shanghai with a population of 21.4 millions as of 2016.[15] As per Indian government population census of 2011, Mumbai is the most populous city in India with an estimated city proper population of 12.5 million living under Municipal Corporation of Greater Mumbai.[16] . (source: https://en.wikipedia.org/wiki/Mumbai)  \n",
    "\n",
    "**Delhi**: officially the National Capital Territory of Delhi (NCT), is a city and a union territory of India containing New Delhi, the capital of India.[18][19] It is bordered by Haryana (Gurugram, Faridabad, Jhajjar and Sonipat) on three sides and by Uttar Pradesh (Gautam Budh Nagar, Ghaziabad and Baghpat) to the east. The NCT covers an area of 1,484 square kilometres (573 sq mi). According to the 2011 census, Delhi's city proper population was over 11 million,[7] the second-highest in India after Mumbai,[20] while the whole NCT's population was about 16.8 million. (source: https://en.wikipedia.org/wiki/Delhi)\n",
    "\n",
    "\n",
    "\n",
    "## Objective\n",
    "In this project, we will study in details the area classification using Foursquare data and machine learning segmentation and clustering.\n",
    "The aim of this project is to segment areas of Mumbai and Delhi based on the most common places captured from Foursquare. \n",
    "\n",
    "Using segmentation and clustering, we hope we can determine:\n",
    "1. the similarity or dissimilarirty of both cities\n",
    "2. classification of area located inside the city whether it is residential, tourism places, or others\n",
    "\n",
    "\n",
    "## Data\n",
    "The data acquired from government website and restructure to csv file for easier manipulation and reading. This files uploaded to my github for references. Link to the files are:\n",
    "\n",
    "- [Mumbai District Data](https://github.com/kamleshpatani/Coursera_Capstone/blob/master/all_india_PO_list.csv)\n",
    "- [Delhi District Data](https://github.com/kamleshpatani/Coursera_Capstone/blob/master/all_india_PO_list.csv)\n",
    "\n",
    "Another aspect to consider for this project is the Foursquare data. I believe that the data as good as provided, meaning although we are using Foursquare data for segmentation and clustering, the amount and accuracy of data captured can't 100% determine correct classification in real world.\n",
    "\n",
    "To start, let's get and look at the data. I've already downloaded it, so let's read it (from local drive) and load it to dataframe:\n",
    "\n"
   ]
  },
  {
   "cell_type": "markdown",
   "metadata": {},
   "source": [
    "# Methodology"
   ]
  },
  {
   "cell_type": "markdown",
   "metadata": {},
   "source": [
    "\n",
    "In this project, I will use the basic methodology as taught in Week 3 lab.   \n",
    "- Above, we have converted addresses into their equivalent latitude and longitude values.  \n",
    "- Then we will use the Foursquare API to explore neighborhoods in both cities, Mumbai and Delhi\n",
    "- After that, explore function to get the most common venue categories in each neighborhood, \n",
    "- and then use this feature to group the neighborhoods into clusters  \n",
    "\n",
    "K-means clustering algorithm will be use to complete this task. And also, the Folium library to visualize the neighborhoods in Mumbai and Delhi and their emerging clusters.  \n",
    "\n",
    "Based on dataframe analysis above, we found out that Mumbai  in Mumbai Region and Delhi area in Delhi are both have the highest number of area within it those district."
   ]
  },
  {
   "attachments": {},
   "cell_type": "markdown",
   "metadata": {},
   "source": [
    "# Result\n",
    "### Based on the analysis we have done, the following is the result we have got:\n",
    "#### Most common area for the Mumbai in first 2 clusters\n",
    "\n",
    "<img src=\"result-1.png\">\n",
    "#### Plot to show the area\n",
    "<img src=\"result-map-1.png\">\n",
    "\n",
    "#### Most common area for the Mumbai in first 2 clusters\n",
    "\n",
    "<img src=\"result-2.png\">\n",
    "\n",
    "#### Plot to show the area\n",
    "<img src=\"result-map-2.png\">"
   ]
  },
  {
   "cell_type": "markdown",
   "metadata": {},
   "source": [
    "# Discussion    "
   ]
  },
  {
   "cell_type": "markdown",
   "metadata": {},
   "source": [
    "Based on cluster for each cities above, we believe that classification for each cluster can be done better with calculation of venues categories (most common) in each cities. Refering to each clsuter, we can't deterimine clearly what represent in each cluster by using Foursquare - Most Common Venue data.\n",
    "\n",
    "However, for the sae of this project we assumed each cluster as follow:\n",
    "\n",
    "Cluster 1: Mumbai: Tourism\n",
    "Cluster 2: Mumbai: Residental\n",
    "Cluster 3: Mumbai: Mix\n",
    "\n",
    "Cluster 1: Delhi: Residental\n",
    "Cluster 2: Delhi: Tourism\n",
    "Cluster 3: Delhi: Sport\n",
    "\n",
    "What is lacking at this point is a systematic, quantitative way to identify and distinguish different district and to describe the correlation most common venues as recorded in Foursquare. The reality is however more complex: similar cities might have or might not have similar common venues. A further step in this classification would be to find a method to extract these common venues and integrate the spatial correlations between different of areas or district.\n",
    "\n",
    "We believe that the classification we propose is an encouraging step towards a quantitative and systematic comparison of the different cities. Further studies are indeed needed in order to relate the data acquired, then observe it to more meaningful and objective results."
   ]
  },
  {
   "cell_type": "markdown",
   "metadata": {},
   "source": [
    "# Conclusion        \n",
    "\n",
    "Using Foursquare API, we can captured data of common places . Using it, we refer back to our main objectives, which is to determine;\n",
    "\n",
    "the similarity or dissimilarirty of both cities\n",
    "classification of area located inside the city whether it is residential, tourism places, or others\n",
    "In conclusion, both cities Mumbai and Delhi are the center of attraction among Indian. However, to declare both cities are similar or dissimilar base on common venues visited is quite difficult. Both cities is similar in some venues also dissimilar in certain venues. And for classitification based on common venues, again we must have more systematic or quantitative way to identify and declare this. Comparison can be made, but no such method or quantitative data to determine this. We hope in the future, a method to determine it can be establish and explore for references.\n",
    "\n",
    "Thank you.\n",
    "\n",
    "by\n",
    "Kamlesh\n",
    "India\n",
    "Kamlesh.patani@gmail.com"
   ]
  },
  {
   "cell_type": "code",
   "execution_count": null,
   "metadata": {},
   "outputs": [],
   "source": []
  }
 ],
 "metadata": {
  "kernelspec": {
   "display_name": "Python 3",
   "language": "python",
   "name": "python3"
  },
  "language_info": {
   "codemirror_mode": {
    "name": "ipython",
    "version": 3
   },
   "file_extension": ".py",
   "mimetype": "text/x-python",
   "name": "python",
   "nbconvert_exporter": "python",
   "pygments_lexer": "ipython3",
   "version": "3.7.3"
  }
 },
 "nbformat": 4,
 "nbformat_minor": 2
}
