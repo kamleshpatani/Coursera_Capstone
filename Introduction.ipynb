{
 "cells": [
  {
   "cell_type": "markdown",
   "metadata": {},
   "source": [
    "## Vijay a businessman wants to set up a Restourent chain business in Mumbai or Delhi. \n",
    "### Where would be the best place to start Restourent?Which are most common place ?"
   ]
  },
  {
   "cell_type": "markdown",
   "metadata": {},
   "source": [
    "## Introduction\n",
    "Mumbai and Delhi are two major cities in India.  Both cities become a center of attention for residential, job employment, tourism, education, shopping and sports activity. Both cities are well known in India, and become the top choice for local and foreign communities.\n",
    "\n",
    "\n",
    "Brief information about both cities:  \n",
    "** Mumbai**: is the capital city of the Indian state of Maharashtra. According to United Nations, Mumbai is the second most populous city in India after Delhi and fourth most populous city in the world after Tokyo, Delhi and Shanghai with a population of 21.4 millions as of 2016.[15] As per Indian government population census of 2011, Mumbai is the most populous city in India with an estimated city proper population of 12.5 million living under Municipal Corporation of Greater Mumbai.[16] . (source: https://en.wikipedia.org/wiki/Mumbai)  \n",
    "\n",
    "**Delhi**: officially the National Capital Territory of Delhi (NCT), is a city and a union territory of India containing New Delhi, the capital of India.[18][19] It is bordered by Haryana (Gurugram, Faridabad, Jhajjar and Sonipat) on three sides and by Uttar Pradesh (Gautam Budh Nagar, Ghaziabad and Baghpat) to the east. The NCT covers an area of 1,484 square kilometres (573 sq mi). According to the 2011 census, Delhi's city proper population was over 11 million,[7] the second-highest in India after Mumbai,[20] while the whole NCT's population was about 16.8 million. (source: https://en.wikipedia.org/wiki/Delhi)\n",
    "\n",
    "\n",
    "\n",
    "## Objective\n",
    "Vijay a businessman wants to set up a Restourent chain business in Mumbai or Delhi. Mumbai and Delhi are two major cities in India In this project, we will explore in details the area  using Foursquare data and machine learning segmentation and clustering. . \n",
    "\n",
    "The aim of this project is to segment areas of Mumbai and Delhi based on the most common places captured from Foursquare and find out best location where a busineman can start restourent.. \n",
    "\n",
    "\n"
   ]
  },
  {
   "cell_type": "code",
   "execution_count": null,
   "metadata": {},
   "outputs": [],
   "source": []
  }
 ],
 "metadata": {
  "kernelspec": {
   "display_name": "Python 3",
   "language": "python",
   "name": "python3"
  },
  "language_info": {
   "codemirror_mode": {
    "name": "ipython",
    "version": 3
   },
   "file_extension": ".py",
   "mimetype": "text/x-python",
   "name": "python",
   "nbconvert_exporter": "python",
   "pygments_lexer": "ipython3",
   "version": "3.7.3"
  }
 },
 "nbformat": 4,
 "nbformat_minor": 2
}
