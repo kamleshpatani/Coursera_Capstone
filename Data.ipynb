{
 "cells": [
  {
   "cell_type": "markdown",
   "metadata": {},
   "source": [
    "## Data\n",
    "The data acquired from government website and restructure to csv file for easier manipulation and reading. This files uploaded to my github for references. Link to the files are:\n",
    "\n",
    "- [Mumbai District Data](https://github.com/kamleshpatani/Coursera_Capstone/blob/master/all_india_PO_list.csv)\n",
    "- [Delhi District Data](https://github.com/kamleshpatani/Coursera_Capstone/blob/master/all_india_PO_list.csv)\n",
    "\n",
    "Another aspect to consider for this project is the Foursquare data. I believe that the data as good as provided, meaning although we are using Foursquare data for segmentation and clustering, the amount and accuracy of data captured can't 100% determine correct classification in real world.\n",
    "\n",
    "To start, let's get and look at the data. I've already downloaded it, so let's read it (from local drive) and load it to dataframe:\n",
    "\n",
    "  This data consist of the Area Name, Post code, District for all indian cities. I will extract data only for Mumbai and Delhi. \n",
    "  For example :\n",
    "  \n",
    "  \n",
    "  <img src=\"data_example.png\">\n",
    "  \n",
    "  \n",
    "  Longitude and latitude of the Mumbai and Delhi area has been derived using Google API.\n",
    "  \n",
    "   <img src=\"data_example-2.png\">\n",
    "    \n",
    "  Foursquare API have been used to get venues at surounding area of both Mumbai, Mumbai and East Delhi Area. \n",
    "  \n",
    "   <img src=\"data_example-3.png\">\n",
    "  "
   ]
  },
  {
   "cell_type": "code",
   "execution_count": null,
   "metadata": {},
   "outputs": [],
   "source": []
  }
 ],
 "metadata": {
  "kernelspec": {
   "display_name": "Python 3",
   "language": "python",
   "name": "python3"
  },
  "language_info": {
   "codemirror_mode": {
    "name": "ipython",
    "version": 3
   },
   "file_extension": ".py",
   "mimetype": "text/x-python",
   "name": "python",
   "nbconvert_exporter": "python",
   "pygments_lexer": "ipython3",
   "version": "3.7.3"
  }
 },
 "nbformat": 4,
 "nbformat_minor": 2
}
