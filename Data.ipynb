{
 "cells": [
  {
   "cell_type": "markdown",
   "metadata": {},
   "source": [
    "## Data\n",
    "The data acquired from government website and restructure to csv file for easier manipulation and reading. This files uploaded to my github for references. Link to the files are:\n",
    "\n",
    "- [Mumbai District Data](https://github.com/kamleshpatani/Coursera_Capstone/blob/master/all_india_PO_list.csv)\n",
    "- [Delhi District Data](https://github.com/kamleshpatani/Coursera_Capstone/blob/master/all_india_PO_list.csv)\n",
    "\n",
    "Another aspect to consider for this project is the Foursquare data. I believe that the data as good as provided, meaning although we are using Foursquare data for segmentation and clustering, the amount and accuracy of data captured can't 100% determine correct classification in real world.\n",
    "\n",
    "To start, let's get and look at the data. I've already downloaded it, so let's read it (from local drive) and load it to dataframe:"
   ]
  },
  {
   "cell_type": "code",
   "execution_count": null,
   "metadata": {},
   "outputs": [],
   "source": []
  }
 ],
 "metadata": {
  "kernelspec": {
   "display_name": "Python 3",
   "language": "python",
   "name": "python3"
  },
  "language_info": {
   "codemirror_mode": {
    "name": "ipython",
    "version": 3
   },
   "file_extension": ".py",
   "mimetype": "text/x-python",
   "name": "python",
   "nbconvert_exporter": "python",
   "pygments_lexer": "ipython3",
   "version": "3.7.3"
  }
 },
 "nbformat": 4,
 "nbformat_minor": 2
}
